{
 "cells": [
  {
   "cell_type": "code",
   "execution_count": 1,
   "metadata": {},
   "outputs": [],
   "source": [
    "# import libraries\n",
    "%matplotlib inline\n",
    "import re\n",
    "import os\n",
    "import nltk\n",
    "import time\n",
    "import string\n",
    "import pickle\n",
    "import itertools\n",
    "import collections\n",
    "import numpy as np\n",
    "import pandas as pd\n",
    "import matplotlib.pyplot as plt"
   ]
  },
  {
   "cell_type": "code",
   "execution_count": 2,
   "metadata": {},
   "outputs": [
    {
     "data": {
      "text/html": [
       "<div>\n",
       "<style scoped>\n",
       "    .dataframe tbody tr th:only-of-type {\n",
       "        vertical-align: middle;\n",
       "    }\n",
       "\n",
       "    .dataframe tbody tr th {\n",
       "        vertical-align: top;\n",
       "    }\n",
       "\n",
       "    .dataframe thead th {\n",
       "        text-align: right;\n",
       "    }\n",
       "</style>\n",
       "<table border=\"1\" class=\"dataframe\">\n",
       "  <thead>\n",
       "    <tr style=\"text-align: right;\">\n",
       "      <th></th>\n",
       "      <th>Unnamed: 0</th>\n",
       "      <th>stopword</th>\n",
       "      <th>sentiment</th>\n",
       "    </tr>\n",
       "  </thead>\n",
       "  <tbody>\n",
       "    <tr>\n",
       "      <th>0</th>\n",
       "      <td>0</td>\n",
       "      <td>mudah</td>\n",
       "      <td>positive</td>\n",
       "    </tr>\n",
       "    <tr>\n",
       "      <th>1</th>\n",
       "      <td>1</td>\n",
       "      <td>aplikasi bantu karna daerah mksih yahh aplikas...</td>\n",
       "      <td>positive</td>\n",
       "    </tr>\n",
       "    <tr>\n",
       "      <th>2</th>\n",
       "      <td>2</td>\n",
       "      <td>bagus sehat</td>\n",
       "      <td>positive</td>\n",
       "    </tr>\n",
       "    <tr>\n",
       "      <th>3</th>\n",
       "      <td>3</td>\n",
       "      <td>tombol tuju nya gak aplikasi user friendly ban...</td>\n",
       "      <td>positive</td>\n",
       "    </tr>\n",
       "    <tr>\n",
       "      <th>4</th>\n",
       "      <td>4</td>\n",
       "      <td>mudah</td>\n",
       "      <td>positive</td>\n",
       "    </tr>\n",
       "    <tr>\n",
       "      <th>5</th>\n",
       "      <td>5</td>\n",
       "      <td>selamat malam aplikasi nya bagus manfaat aplik...</td>\n",
       "      <td>positive</td>\n",
       "    </tr>\n",
       "    <tr>\n",
       "      <th>6</th>\n",
       "      <td>6</td>\n",
       "      <td>puas aflikasi ecek orang</td>\n",
       "      <td>positive</td>\n",
       "    </tr>\n",
       "    <tr>\n",
       "      <th>7</th>\n",
       "      <td>7</td>\n",
       "      <td>aplikasi bantu karna daerah mksih yahh aplikas...</td>\n",
       "      <td>positive</td>\n",
       "    </tr>\n",
       "    <tr>\n",
       "      <th>8</th>\n",
       "      <td>8</td>\n",
       "      <td>bantu cepat layan jamin sehat klien</td>\n",
       "      <td>positive</td>\n",
       "    </tr>\n",
       "    <tr>\n",
       "      <th>9</th>\n",
       "      <td>9</td>\n",
       "      <td>aplikasi pantau kembang covid</td>\n",
       "      <td>positive</td>\n",
       "    </tr>\n",
       "  </tbody>\n",
       "</table>\n",
       "</div>"
      ],
      "text/plain": [
       "   Unnamed: 0                                           stopword sentiment\n",
       "0           0                                              mudah  positive\n",
       "1           1  aplikasi bantu karna daerah mksih yahh aplikas...  positive\n",
       "2           2                                        bagus sehat  positive\n",
       "3           3  tombol tuju nya gak aplikasi user friendly ban...  positive\n",
       "4           4                                              mudah  positive\n",
       "5           5  selamat malam aplikasi nya bagus manfaat aplik...  positive\n",
       "6           6                           puas aflikasi ecek orang  positive\n",
       "7           7  aplikasi bantu karna daerah mksih yahh aplikas...  positive\n",
       "8           8                bantu cepat layan jamin sehat klien  positive\n",
       "9           9                      aplikasi pantau kembang covid  positive"
      ]
     },
     "execution_count": 2,
     "metadata": {},
     "output_type": "execute_result"
    }
   ],
   "source": [
    "reviews_df = pd.read_csv(\"data/hasil-preprocessing-data.csv\")\n",
    "reviews_df.head(10)"
   ]
  },
  {
   "cell_type": "code",
   "execution_count": 3,
   "metadata": {},
   "outputs": [
    {
     "data": {
      "text/html": [
       "<div>\n",
       "<style scoped>\n",
       "    .dataframe tbody tr th:only-of-type {\n",
       "        vertical-align: middle;\n",
       "    }\n",
       "\n",
       "    .dataframe tbody tr th {\n",
       "        vertical-align: top;\n",
       "    }\n",
       "\n",
       "    .dataframe thead th {\n",
       "        text-align: right;\n",
       "    }\n",
       "</style>\n",
       "<table border=\"1\" class=\"dataframe\">\n",
       "  <thead>\n",
       "    <tr style=\"text-align: right;\">\n",
       "      <th></th>\n",
       "      <th>Unnamed: 0</th>\n",
       "      <th>stopword</th>\n",
       "      <th>sentiment</th>\n",
       "    </tr>\n",
       "  </thead>\n",
       "  <tbody>\n",
       "    <tr>\n",
       "      <th>0</th>\n",
       "      <td>0</td>\n",
       "      <td>mudah</td>\n",
       "      <td>positive</td>\n",
       "    </tr>\n",
       "    <tr>\n",
       "      <th>1</th>\n",
       "      <td>1</td>\n",
       "      <td>aplikasi bantu karna daerah mksih yahh aplikas...</td>\n",
       "      <td>positive</td>\n",
       "    </tr>\n",
       "    <tr>\n",
       "      <th>2</th>\n",
       "      <td>2</td>\n",
       "      <td>bagus sehat</td>\n",
       "      <td>positive</td>\n",
       "    </tr>\n",
       "    <tr>\n",
       "      <th>3</th>\n",
       "      <td>3</td>\n",
       "      <td>tombol tuju nya gak aplikasi user friendly ban...</td>\n",
       "      <td>positive</td>\n",
       "    </tr>\n",
       "    <tr>\n",
       "      <th>4</th>\n",
       "      <td>4</td>\n",
       "      <td>mudah</td>\n",
       "      <td>positive</td>\n",
       "    </tr>\n",
       "    <tr>\n",
       "      <th>5</th>\n",
       "      <td>5</td>\n",
       "      <td>selamat malam aplikasi nya bagus manfaat aplik...</td>\n",
       "      <td>positive</td>\n",
       "    </tr>\n",
       "    <tr>\n",
       "      <th>6</th>\n",
       "      <td>6</td>\n",
       "      <td>puas aflikasi ecek orang</td>\n",
       "      <td>positive</td>\n",
       "    </tr>\n",
       "    <tr>\n",
       "      <th>7</th>\n",
       "      <td>7</td>\n",
       "      <td>aplikasi bantu karna daerah mksih yahh aplikas...</td>\n",
       "      <td>positive</td>\n",
       "    </tr>\n",
       "    <tr>\n",
       "      <th>8</th>\n",
       "      <td>8</td>\n",
       "      <td>bantu cepat layan jamin sehat klien</td>\n",
       "      <td>positive</td>\n",
       "    </tr>\n",
       "    <tr>\n",
       "      <th>9</th>\n",
       "      <td>9</td>\n",
       "      <td>aplikasi pantau kembang covid</td>\n",
       "      <td>positive</td>\n",
       "    </tr>\n",
       "  </tbody>\n",
       "</table>\n",
       "</div>"
      ],
      "text/plain": [
       "   Unnamed: 0                                           stopword sentiment\n",
       "0           0                                              mudah  positive\n",
       "1           1  aplikasi bantu karna daerah mksih yahh aplikas...  positive\n",
       "2           2                                        bagus sehat  positive\n",
       "3           3  tombol tuju nya gak aplikasi user friendly ban...  positive\n",
       "4           4                                              mudah  positive\n",
       "5           5  selamat malam aplikasi nya bagus manfaat aplik...  positive\n",
       "6           6                           puas aflikasi ecek orang  positive\n",
       "7           7  aplikasi bantu karna daerah mksih yahh aplikas...  positive\n",
       "8           8                bantu cepat layan jamin sehat klien  positive\n",
       "9           9                      aplikasi pantau kembang covid  positive"
      ]
     },
     "execution_count": 3,
     "metadata": {},
     "output_type": "execute_result"
    }
   ],
   "source": [
    "reviews_df = reviews_df.dropna()\n",
    "reviews_df.head(10)"
   ]
  },
  {
   "cell_type": "code",
   "execution_count": 5,
   "metadata": {},
   "outputs": [],
   "source": [
    "X = reviews_df['stopword']\n",
    "y = reviews_df['sentiment']\n"
   ]
  },
  {
   "cell_type": "code",
   "execution_count": 54,
   "metadata": {},
   "outputs": [],
   "source": [
    "def svmPredict(Xtr, Ytr, Xte, reg_parm = 0.1, epochs = 100000):\n",
    "    \n",
    "    n_train, d_train = np.shape(Xtr)\n",
    "    \n",
    "    if any(np.abs(Ytr) != 1):\n",
    "        print(\"The values of Ytr should be +1 or -1.\")\n",
    "        return -1\n",
    "    \n",
    "    \n",
    "    \n",
    "    w = np.zeros(d_train)\n",
    "\n",
    "    \n",
    "    for epoch in range(1, epochs):\n",
    "        learning_rate = 1/epoch        # variable learning rate\n",
    "        for i, x in enumerate(Xtr):\n",
    "            if (Ytr[i] * np.dot(Xtr[i], w)) < 1:\n",
    "                w = (1 - learning_rate)*w + (learning_rate)*reg_parm*Ytr[i]*Xtr[i]\n",
    "            else:\n",
    "                w = (1 - learning_rate)*w\n",
    "                \n",
    "        \n",
    "    Ypred = np.dot(Xte, w)\n",
    "    print(Ypred)\n",
    "    return Ypred, w"
   ]
  },
  {
   "cell_type": "code",
   "execution_count": 55,
   "metadata": {},
   "outputs": [],
   "source": [
    "def linearBinaryClass(n, low_D, high_D, m, q):\n",
    "\n",
    "    X = np.zeros((n, 2))\n",
    "    Y = np.zeros(n)\n",
    "    for i in range(2):\n",
    "        X[:,i] = np.random.uniform(low_D, high_D, size=n)\n",
    "        print(m)\n",
    "        \n",
    "    Y[X[:,1] - (X[:,0] * m + q) > 0] = 1 \n",
    "    Y[X[:,1] - (X[:,0] * m + q) < 0] = -1\n",
    "    \n",
    "    return X,Y"
   ]
  },
  {
   "cell_type": "code",
   "execution_count": 56,
   "metadata": {},
   "outputs": [],
   "source": [
    "def flipLabels(Y, P):\n",
    "    if P < 1 or P > 100:\n",
    "        print(\"p should be a percentage value between 0 and 100.\")\n",
    "        return -1\n",
    "\n",
    "    if any(np.abs(Y) != 1):\n",
    "        print(\"The values of Ytr should be +1 or -1.\")\n",
    "        return -1\n",
    "\n",
    "    Y_noisy = np.copy(np.squeeze(Y))\n",
    "    if Y_noisy.ndim > 1:\n",
    "        print(\"Please supply a label array with only one dimension\")\n",
    "        return -1\n",
    "\n",
    "    n = Y_noisy.size\n",
    "    n_flips = int(np.floor(n * P / 100))\n",
    "    idx_to_flip = np.random.choice(n, size=n_flips, replace=False)\n",
    "    Y_noisy[idx_to_flip] = -Y_noisy[idx_to_flip]\n",
    "\n",
    "    return Y_noisy"
   ]
  },
  {
   "cell_type": "code",
   "execution_count": 57,
   "metadata": {},
   "outputs": [
    {
     "name": "stdout",
     "output_type": "stream",
     "text": [
      "0.8\n",
      "0.8\n"
     ]
    }
   ],
   "source": [
    "X, Y = linearBinaryClass(200, 0, 20, 0.8, 0)\n",
    "Y = flipLabels(Y, 5)    # 5% white noise in data"
   ]
  },
  {
   "cell_type": "code",
   "execution_count": 60,
   "metadata": {},
   "outputs": [
    {
     "name": "stdout",
     "output_type": "stream",
     "text": [
      "[ 1.30189526  0.08653081  2.99895274 -2.02994356  0.88780133 -2.2912761\n",
      " -4.06370287  5.16081526 -1.43609317  3.78386931  4.19134091 -0.11978139\n",
      " -2.11015557 -1.88727798  1.16023495 -0.20172268 -2.87573102 -0.22824706\n",
      "  1.07376763 -3.2301859   2.33817082 -2.70032247  3.16797064  4.68387561\n",
      "  2.25164259  1.99438563 -1.71797895 -1.8932977  -1.33282764 -3.66313996\n",
      "  5.9100732   0.97823018  1.68803759  4.57856978 -1.52774449 -0.64763867\n",
      "  2.68053445  2.12521711  1.8820773   4.66611868]\n",
      "[-0.32603119  0.41236106]\n"
     ]
    },
    {
     "data": {
      "text/plain": [
       "[<matplotlib.lines.Line2D at 0x23ac6f3ad90>]"
      ]
     },
     "execution_count": 60,
     "metadata": {},
     "output_type": "execute_result"
    },
    {
     "data": {
      "image/png": "[encoded data removed]",
      "text/plain": [
       "<Figure size 432x288 with 1 Axes>"
      ]
     },
     "metadata": {
      "needs_background": "light"
     },
     "output_type": "display_data"
    }
   ],
   "source": [
    "# % of data to be used as training\n",
    "training_percentage = 80\n",
    "size_of_input_data = X.shape[0]\n",
    "\n",
    "Xtr = X[0 : (int(size_of_input_data*training_percentage/100)), :]\n",
    "Ytr = Y[0: (int(size_of_input_data*training_percentage/100))]\n",
    "Xte = X[(int(size_of_input_data*training_percentage/100)) : , :]\n",
    "Yte = Y[(int(size_of_input_data*training_percentage/100)) : ]\n",
    "\n",
    "reg_param = 40\n",
    "Y_pred, w = svmPredict(Xtr, Ytr, Xte, reg_param) \n",
    "print (w)\n",
    "\n",
    "# Visualization of the model\n",
    "\n",
    "plt.scatter(np.array(X[:,0]), np.array(X[:,1]),marker='*',c=Y)\n",
    "\n",
    "# Create the hyperplane\n",
    "\n",
    "a = -w[0] / w[1]\n",
    "xx = np.linspace(0,20)\n",
    "yy = a * xx \n",
    "\n",
    "# Plot the hyperplane\n",
    "plt.plot(xx, yy, color='red')\n",
    "\n",
    "# Plot support vectors \n",
    "plt.plot(xx, (yy+1), linestyle='--', color='blue')\n",
    "plt.plot(xx, (yy-1), linestyle='--', color='blue')\n",
    "\n",
    "# plt.show();"
   ]
  },
  {
   "cell_type": "code",
   "execution_count": null,
   "metadata": {},
   "outputs": [],
   "source": []
  },
  {
   "cell_type": "code",
   "execution_count": null,
   "metadata": {},
   "outputs": [],
   "source": []
  }
 ],
 "metadata": {
  "kernelspec": {
   "display_name": "Python 3",
   "language": "python",
   "name": "python3"
  },
  "language_info": {
   "codemirror_mode": {
    "name": "ipython",
    "version": 3
   },
   "file_extension": ".py",
   "mimetype": "text/x-python",
   "name": "python",
   "nbconvert_exporter": "python",
   "pygments_lexer": "ipython3",
   "version": "3.8.8"
  }
 },
 "nbformat": 4,
 "nbformat_minor": 2
}
