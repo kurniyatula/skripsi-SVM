{
 "cells": [
  {
   "cell_type": "code",
   "execution_count": 1,
   "metadata": {
    "colab": {
     "base_uri": "https://localhost:8080/"
    },
    "id": "5P5OG7N4fkTR",
    "outputId": "a1c07e7e-eed0-4dc5-a6c3-f574a8540535"
   },
   "outputs": [
    {
     "name": "stdout",
     "output_type": "stream",
     "text": [
      "\u001b[?25l\r",
      "\u001b[K     |██████▏                         | 10 kB 23.0 MB/s eta 0:00:01\r",
      "\u001b[K     |████████████▍                   | 20 kB 19.6 MB/s eta 0:00:01\r",
      "\u001b[K     |██████████████████▋             | 30 kB 14.7 MB/s eta 0:00:01\r",
      "\u001b[K     |████████████████████████▉       | 40 kB 10.6 MB/s eta 0:00:01\r",
      "\u001b[K     |███████████████████████████████ | 51 kB 5.6 MB/s eta 0:00:01\r",
      "\u001b[K     |████████████████████████████████| 52 kB 1.2 MB/s \n",
      "\u001b[?25h  Building wheel for google-play-scraper (setup.py) ... \u001b[?25l\u001b[?25hdone\n"
     ]
    }
   ],
   "source": [
    "!pip install -qq google-play-scraper"
   ]
  },
  {
   "cell_type": "code",
   "execution_count": 2,
   "metadata": {
    "id": "cyxpYqRdjUs7"
   },
   "outputs": [],
   "source": [
    "from google_play_scraper import app\n",
    "\n",
    "import pandas as pd\n",
    "\n",
    "import numpy as np\n"
   ]
  },
  {
   "cell_type": "code",
   "execution_count": null,
   "metadata": {
    "id": "lmnPizrujWcv"
   },
   "outputs": [],
   "source": [
    "from google_play_scraper import Sort, reviews_all\n",
    "\n",
    "\n",
    "pd_reviews = reviews_all(\n",
    "    'com.telkom.tracencare',\n",
    "    sleep_milliseconds=0, # defaults to 0\n",
    "    lang='id', # defaults to 'en'\n",
    "    country='id', # defaults to 'us'\n",
    "    sort=Sort.MOST_RELEVANT, # defaults to Sort.MOST_RELEVANT\n",
    ")"
   ]
  },
  {
   "cell_type": "code",
   "execution_count": null,
   "metadata": {
    "colab": {
     "base_uri": "https://localhost:8080/",
     "height": 581
    },
    "id": "-2mvbk6DjnAe",
    "outputId": "2279bfd3-2d07-4656-a72d-56fe5215d263"
   },
   "outputs": [
    {
     "data": {
      "text/html": [
       "<div>\n",
       "<style scoped>\n",
       "    .dataframe tbody tr th:only-of-type {\n",
       "        vertical-align: middle;\n",
       "    }\n",
       "\n",
       "    .dataframe tbody tr th {\n",
       "        vertical-align: top;\n",
       "    }\n",
       "\n",
       "    .dataframe thead th {\n",
       "        text-align: right;\n",
       "    }\n",
       "</style>\n",
       "<table border=\"1\" class=\"dataframe\">\n",
       "  <thead>\n",
       "    <tr style=\"text-align: right;\">\n",
       "      <th></th>\n",
       "      <th>reviewId</th>\n",
       "      <th>userName</th>\n",
       "      <th>userImage</th>\n",
       "      <th>content</th>\n",
       "      <th>score</th>\n",
       "      <th>thumbsUpCount</th>\n",
       "      <th>reviewCreatedVersion</th>\n",
       "      <th>at</th>\n",
       "      <th>replyContent</th>\n",
       "      <th>repliedAt</th>\n",
       "    </tr>\n",
       "  </thead>\n",
       "  <tbody>\n",
       "    <tr>\n",
       "      <th>0</th>\n",
       "      <td>gp:AOqpTOFqLtq5mIoVS2U9m9cCqG9FZhXPJjKDc33QsxB...</td>\n",
       "      <td>Y ADRI KURNIAWAN</td>\n",
       "      <td>https://play-lh.googleusercontent.com/a/AATXAJ...</td>\n",
       "      <td>Berulang kali mencoba login, tapi langsung cra...</td>\n",
       "      <td>1</td>\n",
       "      <td>318</td>\n",
       "      <td>3.4.6</td>\n",
       "      <td>2021-10-18 16:41:01</td>\n",
       "      <td>Halo Kak,\\n\\nKami mohon maaf atas ketidaknyama...</td>\n",
       "      <td>2021-10-21 02:40:22</td>\n",
       "    </tr>\n",
       "    <tr>\n",
       "      <th>1</th>\n",
       "      <td>gp:AOqpTOG21MxSnwyzRJHIZjSYM-29imN2FREKncggMH9...</td>\n",
       "      <td>Ummi Afzuldafhan</td>\n",
       "      <td>https://play-lh.googleusercontent.com/a-/AOh14...</td>\n",
       "      <td>Aplikasi aneh yang kalau tetiba keluar aplikas...</td>\n",
       "      <td>1</td>\n",
       "      <td>171</td>\n",
       "      <td>3.4.6</td>\n",
       "      <td>2021-10-19 16:33:49</td>\n",
       "      <td>None</td>\n",
       "      <td>NaT</td>\n",
       "    </tr>\n",
       "    <tr>\n",
       "      <th>2</th>\n",
       "      <td>gp:AOqpTOGFd2MoXJdtXI4c4papuD2ZbCGqmcrzb5anTGR...</td>\n",
       "      <td>ann</td>\n",
       "      <td>https://play-lh.googleusercontent.com/a/AATXAJ...</td>\n",
       "      <td>Yg input data nama siapa sih? Nama gw salah, n...</td>\n",
       "      <td>1</td>\n",
       "      <td>115</td>\n",
       "      <td>3.4.5</td>\n",
       "      <td>2021-10-19 14:04:15</td>\n",
       "      <td>Halo Kakak,\\n\\nSebelumnya kami mohon maaf atas...</td>\n",
       "      <td>2021-10-05 16:24:43</td>\n",
       "    </tr>\n",
       "    <tr>\n",
       "      <th>3</th>\n",
       "      <td>gp:AOqpTOFM4u7tNjjcNkTWEK6AYEQ3aRTDOPC2EBi2Pgn...</td>\n",
       "      <td>ikhsan firdaus</td>\n",
       "      <td>https://play-lh.googleusercontent.com/a-/AOh14...</td>\n",
       "      <td>Aplikasinya nyusahin banget, jauh jauh datang ...</td>\n",
       "      <td>1</td>\n",
       "      <td>55</td>\n",
       "      <td>3.4.6</td>\n",
       "      <td>2021-10-14 10:29:25</td>\n",
       "      <td>Halo ikhsan,\\nKami mohon maaf atas ketidaknyam...</td>\n",
       "      <td>2021-10-14 10:45:23</td>\n",
       "    </tr>\n",
       "    <tr>\n",
       "      <th>4</th>\n",
       "      <td>gp:AOqpTOF3D1y3_D0DnKdHghp82SyT5zdhEsprXACATeJ...</td>\n",
       "      <td>Official Games Zone</td>\n",
       "      <td>https://play-lh.googleusercontent.com/a-/AOh14...</td>\n",
       "      <td>Ulasan saya sebelumnya hilang. Terdapat ketida...</td>\n",
       "      <td>1</td>\n",
       "      <td>18</td>\n",
       "      <td>3.4.6</td>\n",
       "      <td>2021-10-18 01:24:16</td>\n",
       "      <td>Halo,\\n\\nTerkait pengubahan data, Anda dapat m...</td>\n",
       "      <td>2021-10-14 07:37:36</td>\n",
       "    </tr>\n",
       "  </tbody>\n",
       "</table>\n",
       "</div>"
      ],
      "text/plain": [
       "                                            reviewId  ...           repliedAt\n",
       "0  gp:AOqpTOFqLtq5mIoVS2U9m9cCqG9FZhXPJjKDc33QsxB...  ... 2021-10-21 02:40:22\n",
       "1  gp:AOqpTOG21MxSnwyzRJHIZjSYM-29imN2FREKncggMH9...  ...                 NaT\n",
       "2  gp:AOqpTOGFd2MoXJdtXI4c4papuD2ZbCGqmcrzb5anTGR...  ... 2021-10-05 16:24:43\n",
       "3  gp:AOqpTOFM4u7tNjjcNkTWEK6AYEQ3aRTDOPC2EBi2Pgn...  ... 2021-10-14 10:45:23\n",
       "4  gp:AOqpTOF3D1y3_D0DnKdHghp82SyT5zdhEsprXACATeJ...  ... 2021-10-14 07:37:36\n",
       "\n",
       "[5 rows x 10 columns]"
      ]
     },
     "execution_count": 9,
     "metadata": {},
     "output_type": "execute_result"
    }
   ],
   "source": [
    "df_peduli = pd.DataFrame(np.array(pd_reviews),columns=['review'])\n",
    "\n",
    "\n",
    "df_peduli = df_peduli.join(pd.DataFrame(df_peduli.pop('review').tolist()))\n",
    "\n",
    "\n",
    "df_peduli.head()"
   ]
  },
  {
   "cell_type": "code",
   "execution_count": null,
   "metadata": {
    "id": "XDMnlIH1kV0x"
   },
   "outputs": [],
   "source": [
    "df_peduli.to_csv('pedulilindungi.csv', index=None, header=True)"
   ]
  }
 ],
 "metadata": {
  "colab": {
   "collapsed_sections": [],
   "name": "Untitled1.ipynb",
   "provenance": []
  },
  "kernelspec": {
   "display_name": "Python 3",
   "language": "python",
   "name": "python3"
  },
  "language_info": {
   "codemirror_mode": {
    "name": "ipython",
    "version": 3
   },
   "file_extension": ".py",
   "mimetype": "text/x-python",
   "name": "python",
   "nbconvert_exporter": "python",
   "pygments_lexer": "ipython3",
   "version": "3.8.8"
  }
 },
 "nbformat": 4,
 "nbformat_minor": 1
}
